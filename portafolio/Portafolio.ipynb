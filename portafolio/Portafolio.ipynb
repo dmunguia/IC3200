{
 "cells": [
  {
   "cell_type": "markdown",
   "metadata": {},
   "source": [
    "# Selection Sort"
   ]
  },
  {
   "cell_type": "markdown",
   "metadata": {},
   "source": [
    "## Problema\n",
    "\n",
    "* **Entradas**. Una lista de números enteros en órden aleatorio.\n",
    "* **Salidas**. Una lista que contiene los mismo números de la entrada ordenados ascendentemente."
   ]
  },
  {
   "cell_type": "code",
   "execution_count": 15,
   "metadata": {},
   "outputs": [],
   "source": [
    "def selection(A):\n",
    "    if len(A) > 1:\n",
    "        for i in range(0, len(A) - 1):\n",
    "            ind_min = i\n",
    "            for j in range(i + 1, len(A)):\n",
    "                if A[j] < A[ind_min]:\n",
    "                    ind_min = j\n",
    "            if ind_min != i:\n",
    "                (A[i], A[ind_min]) = (A[ind_min], A[i])"
   ]
  },
  {
   "cell_type": "code",
   "execution_count": 13,
   "metadata": {
    "scrolled": true
   },
   "outputs": [
    {
     "name": "stdout",
     "output_type": "stream",
     "text": [
      "[0, 1, 2, 3, 5]\n"
     ]
    }
   ],
   "source": [
    "A = [1,3,5,2,0]\n",
    "\n",
    "selection(A)\n",
    "\n",
    "print(A)"
   ]
  },
  {
   "cell_type": "markdown",
   "metadata": {},
   "source": [
    "## Análisis"
   ]
  },
  {
   "cell_type": "markdown",
   "metadata": {},
   "source": [
    "### Tiempo\n",
    "\n",
    "El algoritmo no toma en cuenta el contenido de la entrada \n",
    "para la toma de decisiones sobre el ordenamiento. Esto quiere decir\n",
    "que sólo existe un caso posible, pues el algoritmo siempre se comporta de la misma manera, independientemente de su entrada.\n",
    "\n",
    "El algoritmo recorre el arreglo $(n - 1)$ veces para encontrar el mínimo e intercambiarlo por el primer elemento, luego \n",
    "$(n - 2)$ veces para encontrar el siguiente mínimo e intercambiarlo\n",
    "por el segundo elemento. Esto se repite sucesivamente:\n",
    "\n",
    "\\begin{equation}\n",
    "(n - 1) + (n - 2) + {...} + 2 + 1 = \\sum_{i=1}^{n - 1} i = \\frac{n(n - 1)}{2}\n",
    "\\end{equation}\n",
    "\n",
    "De esta manera, el algoritmo presenta una cota superior de $\\mathcal{O}(n^2)$"
   ]
  },
  {
   "cell_type": "markdown",
   "metadata": {},
   "source": [
    "### Espacio\n",
    "\n",
    "El algoritmo realiza los ordenamientos en sitio. Por tanto\n",
    "\n",
    "\\begin{equation}\n",
    "S_{AUX}(p) = \\mathcal{O}(1) \\\\\n",
    "\\end{equation}\n",
    "\n",
    "Tomando en cuenta el tamaño de la entrada, la complejidad espacial del algoritmo es\n",
    "\n",
    "\\begin{equation}\n",
    "S(p) = \\mathcal{O}(n) + S_{AUX}(p) = \\mathcal{O}(n) + \\mathcal{O}(1) = \\mathcal{O}(n)\n",
    "\\end{equation}\n",
    "\n"
   ]
  }
 ],
 "metadata": {
  "kernelspec": {
   "display_name": "Python 2",
   "language": "python",
   "name": "python2"
  },
  "language_info": {
   "codemirror_mode": {
    "name": "ipython",
    "version": 2
   },
   "file_extension": ".py",
   "mimetype": "text/x-python",
   "name": "python",
   "nbconvert_exporter": "python",
   "pygments_lexer": "ipython2",
   "version": "2.7.12"
  }
 },
 "nbformat": 4,
 "nbformat_minor": 2
}
