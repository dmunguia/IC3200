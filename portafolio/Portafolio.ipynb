{
 "cells": [
  {
   "cell_type": "markdown",
   "metadata": {},
   "source": [
    "# 1. Selection Sort"
   ]
  },
  {
   "cell_type": "markdown",
   "metadata": {},
   "source": [
    "## Problema\n",
    "\n",
    "* **Entradas**. Una lista de números enteros en órden aleatorio. $A = (a_1, a_2, a_3, ..., a_n)$\n",
    "* **Salidas**. Una lista que contiene los mismo números de la entrada ordenados ascendentemente. Es decir, una permutación de A $({a'}_1, {a'}_2, ..., {a'}_n)$ tal que ${a'}_1 \\leq {a'}_2 \\leq ... \\leq {a'}_n$"
   ]
  },
  {
   "cell_type": "code",
   "execution_count": 1,
   "metadata": {
    "collapsed": true
   },
   "outputs": [],
   "source": [
    "def selection(A):\n",
    "    if len(A) > 1:\n",
    "        for i in range(0, len(A) - 1):\n",
    "            ind_min = i\n",
    "            for j in range(i + 1, len(A)):\n",
    "                if A[j] < A[ind_min]:\n",
    "                    ind_min = j\n",
    "            if ind_min != i:\n",
    "                (A[i], A[ind_min]) = (A[ind_min], A[i])"
   ]
  },
  {
   "cell_type": "code",
   "execution_count": 2,
   "metadata": {
    "scrolled": true
   },
   "outputs": [
    {
     "name": "stdout",
     "output_type": "stream",
     "text": [
      "[0, 1, 2, 3, 5]\n"
     ]
    }
   ],
   "source": [
    "A = [1,3,5,2,0]\n",
    "\n",
    "selection(A)\n",
    "\n",
    "print(A)"
   ]
  },
  {
   "cell_type": "markdown",
   "metadata": {},
   "source": [
    "## Análisis"
   ]
  },
  {
   "cell_type": "markdown",
   "metadata": {},
   "source": [
    "### Tiempo\n",
    "\n",
    "El algoritmo no toma en cuenta el contenido de la entrada \n",
    "para la toma de decisiones sobre el ordenamiento. Esto quiere decir\n",
    "que sólo existe un caso posible, pues el algoritmo siempre se comporta de la misma manera, independientemente de su entrada.\n",
    "\n",
    "El algoritmo recorre el arreglo $(n - 1)$ veces para encontrar el mínimo e intercambiarlo por el primer elemento, luego \n",
    "$(n - 2)$ veces para encontrar el siguiente mínimo e intercambiarlo\n",
    "por el segundo elemento. Esto se repite sucesivamente:\n",
    "\n",
    "\\begin{equation}\n",
    "(n - 1) + (n - 2) + {...} + 2 + 1 = \\sum_{i=1}^{n - 1} i = \\frac{n(n - 1)}{2}\n",
    "\\end{equation}\n",
    "\n",
    "De esta manera, el algoritmo presenta una cota superior de $\\mathcal{O}(n^2)$"
   ]
  },
  {
   "cell_type": "markdown",
   "metadata": {},
   "source": [
    "### Espacio\n",
    "\n",
    "El algoritmo realiza los ordenamientos en sitio. Por tanto\n",
    "\n",
    "\\begin{equation}\n",
    "S_{AUX}(p) = \\mathcal{O}(1) \\\\\n",
    "\\end{equation}\n",
    "\n",
    "Tomando en cuenta el tamaño de la entrada, la complejidad espacial del algoritmo es\n",
    "\n",
    "\\begin{equation}\n",
    "S(p) = \\mathcal{O}(n) + S_{AUX}(p) = \\mathcal{O}(n) + \\mathcal{O}(1) = \\mathcal{O}(n)\n",
    "\\end{equation}\n",
    "\n"
   ]
  },
  {
   "cell_type": "markdown",
   "metadata": {},
   "source": [
    "## Análisis empírico"
   ]
  },
  {
   "cell_type": "code",
   "execution_count": 46,
   "metadata": {},
   "outputs": [
    {
     "data": {
      "image/png": "[encoded data removed]",
      "text/plain": [
       "<matplotlib.figure.Figure at 0x7f82fcec5750>"
      ]
     },
     "metadata": {},
     "output_type": "display_data"
    }
   ],
   "source": [
    "import numpy as np\n",
    "\n",
    "sizes = [1, 100, 200, 300, 400, 500, 600, 700, 800, 900, 1000, 2500, 4000, 5000]\n",
    "times = []\n",
    "\n",
    "for n in sizes:\n",
    "    A = np.random.randint(n, size = n)\n",
    "    time = %timeit -q -n 10 -o selection(A)\n",
    "    times.append(time.best)\n",
    "    \n",
    "%matplotlib inline\n",
    "\n",
    "import matplotlib.pyplot as plt\n",
    "plt.plot(sizes, times)\n",
    "plt.ylabel('Tiempo (s)')\n",
    "plt.xlabel('n')\n",
    "plt.show()"
   ]
  },
  {
   "cell_type": "markdown",
   "metadata": {},
   "source": [
    "## Aporte\n",
    "\n",
    "* ¿En cuáles casos es pertinente aplicar este algoritmo?\n",
    "* ¿Cómo se compara con otros algoritmos?\n",
    "* Variantes del algoritmo\n",
    "* Demostración de correctitud\n",
    "* ¿Cómo se podría optimizar la implementación?"
   ]
  },
  {
   "cell_type": "code",
   "execution_count": 3,
   "metadata": {},
   "outputs": [
    {
     "data": {
      "text/plain": [
       "2"
      ]
     },
     "execution_count": 3,
     "metadata": {},
     "output_type": "execute_result"
    }
   ],
   "source": [
    "1+1"
   ]
  }
 ],
 "metadata": {
  "kernelspec": {
   "display_name": "Python 2",
   "language": "python",
   "name": "python2"
  },
  "language_info": {
   "codemirror_mode": {
    "name": "ipython",
    "version": 2
   },
   "file_extension": ".py",
   "mimetype": "text/x-python",
   "name": "python",
   "nbconvert_exporter": "python",
   "pygments_lexer": "ipython2",
   "version": "2.7.12"
  }
 },
 "nbformat": 4,
 "nbformat_minor": 2
}
